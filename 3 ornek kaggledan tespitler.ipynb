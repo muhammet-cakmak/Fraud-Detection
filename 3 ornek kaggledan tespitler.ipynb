{
 "cells": [
  {
   "cell_type": "code",
   "execution_count": 1,
   "metadata": {},
   "outputs": [],
   "source": [
    "import pandas as pd\n",
    "import numpy as np\n",
    "from tqdm import tqdm_notebook\n",
    "from sklearn.metrics import roc_auc_score\n",
    "import gc\n",
    "\n",
    "from sklearn.preprocessing import LabelEncoder\n",
    "\n",
    "import matplotlib.pyplot as plt\n",
    "import seaborn as sns\n",
    "sns.set()\n",
    "%matplotlib inline\n",
    "\n",
    "import warnings\n",
    "warnings.filterwarnings('ignore')"
   ]
  },
  {
   "cell_type": "code",
   "execution_count": 2,
   "metadata": {},
   "outputs": [],
   "source": [
    "pd.set_option('max_columns', None)"
   ]
  },
  {
   "cell_type": "code",
   "execution_count": 3,
   "metadata": {},
   "outputs": [],
   "source": [
    "def reduce_mem_usage(df):\n",
    "    \"\"\" iterate through all the columns of a dataframe and modify the data type\n",
    "        to reduce memory usage.        \n",
    "    \"\"\"\n",
    "    start_mem = df.memory_usage().sum() / 1024**2\n",
    "    print('Memory usage of dataframe is {:.2f} MB'.format(start_mem))\n",
    "    \n",
    "    for col in df.columns:\n",
    "        col_type = df[col].dtype\n",
    "        \n",
    "        if col_type != object:\n",
    "            c_min = df[col].min()\n",
    "            c_max = df[col].max()\n",
    "            if str(col_type)[:3] == 'int':\n",
    "                if c_min > np.iinfo(np.int8).min and c_max < np.iinfo(np.int8).max:\n",
    "                    df[col] = df[col].astype(np.int8)\n",
    "                elif c_min > np.iinfo(np.int16).min and c_max < np.iinfo(np.int16).max:\n",
    "                    df[col] = df[col].astype(np.int16)\n",
    "                elif c_min > np.iinfo(np.int32).min and c_max < np.iinfo(np.int32).max:\n",
    "                    df[col] = df[col].astype(np.int32)\n",
    "                elif c_min > np.iinfo(np.int64).min and c_max < np.iinfo(np.int64).max:\n",
    "                    df[col] = df[col].astype(np.int64)  \n",
    "            else:\n",
    "                if c_min > np.finfo(np.float16).min and c_max < np.finfo(np.float16).max:\n",
    "                    df[col] = df[col].astype(np.float16)\n",
    "                elif c_min > np.finfo(np.float32).min and c_max < np.finfo(np.float32).max:\n",
    "                    df[col] = df[col].astype(np.float32)\n",
    "                else:\n",
    "                    df[col] = df[col].astype(np.float64)\n",
    "        else:\n",
    "            df[col] = df[col].astype('category')\n",
    "\n",
    "    end_mem = df.memory_usage().sum() / 1024**2\n",
    "    print('Memory usage after optimization is: {:.2f} MB'.format(end_mem))\n",
    "    print('Decreased by {:.1f}%'.format(100 * (start_mem - end_mem) / start_mem))\n",
    "    \n",
    "    return df"
   ]
  },
  {
   "cell_type": "code",
   "execution_count": 13,
   "metadata": {},
   "outputs": [
    {
     "name": "stdout",
     "output_type": "stream",
     "text": [
      "Loading data...\n",
      "\tSuccessfully loaded train_identity!\n",
      "\tSuccessfully loaded train_transaction!\n",
      "\tSuccessfully loaded test_identity!\n",
      "\tSuccessfully loaded test_transaction!\n",
      "\tSuccessfully loaded sample_submission!\n",
      "Data was successfully loaded!\n",
      "\n",
      "Wall time: 1min 39s\n"
     ]
    }
   ],
   "source": [
    "%%time\n",
    "\n",
    "print('Loading data...')\n",
    "\n",
    "train_identity = pd.read_csv('train_identity.csv', index_col='TransactionID')\n",
    "print('\\tSuccessfully loaded train_identity!')\n",
    "\n",
    "train_transaction = pd.read_csv('train_transaction.csv', index_col='TransactionID')\n",
    "print('\\tSuccessfully loaded train_transaction!')\n",
    "\n",
    "test_identity = pd.read_csv('test_identity.csv', index_col='TransactionID')\n",
    "print('\\tSuccessfully loaded test_identity!')\n",
    "\n",
    "test_transaction = pd.read_csv('test_transaction.csv', index_col='TransactionID')\n",
    "print('\\tSuccessfully loaded test_transaction!')\n",
    "\n",
    "sub = pd.read_csv('sample_submission.csv')\n",
    "print('\\tSuccessfully loaded sample_submission!')\n",
    "\n",
    "test_identity.columns = train_identity.columns\n",
    "\n",
    "print('Data was successfully loaded!\\n')"
   ]
  },
  {
   "cell_type": "code",
   "execution_count": 14,
   "metadata": {},
   "outputs": [],
   "source": [
    "def id_split(dataframe):\n",
    "    dataframe['device_name'] = dataframe['DeviceInfo'].str.split('/', expand=True)[0]\n",
    "    dataframe['device_version'] = dataframe['DeviceInfo'].str.split('/', expand=True)[1]\n",
    "\n",
    "    dataframe['OS_id_30'] = dataframe['id_30'].str.split(' ', expand=True)[0]\n",
    "    dataframe['version_id_30'] = dataframe['id_30'].str.split(' ', expand=True)[1]\n",
    "\n",
    "    dataframe['browser_id_31'] = dataframe['id_31'].str.split(' ', expand=True)[0]\n",
    "    dataframe['version_id_31'] = dataframe['id_31'].str.split(' ', expand=True)[1]\n",
    "\n",
    "    dataframe['screen_width'] = dataframe['id_33'].str.split('x', expand=True)[0]\n",
    "    dataframe['screen_height'] = dataframe['id_33'].str.split('x', expand=True)[1]\n",
    "\n",
    "    dataframe['id_34'] = dataframe['id_34'].str.split(':', expand=True)[1]\n",
    "    dataframe['id_23'] = dataframe['id_23'].str.split(':', expand=True)[1]\n",
    "\n",
    "    dataframe.loc[dataframe['device_name'].str.contains('SM', na=False), 'device_name'] = 'Samsung'\n",
    "    dataframe.loc[dataframe['device_name'].str.contains('SAMSUNG', na=False), 'device_name'] = 'Samsung'\n",
    "    dataframe.loc[dataframe['device_name'].str.contains('GT-', na=False), 'device_name'] = 'Samsung'\n",
    "    dataframe.loc[dataframe['device_name'].str.contains('Moto G', na=False), 'device_name'] = 'Motorola'\n",
    "    dataframe.loc[dataframe['device_name'].str.contains('Moto', na=False), 'device_name'] = 'Motorola'\n",
    "    dataframe.loc[dataframe['device_name'].str.contains('moto', na=False), 'device_name'] = 'Motorola'\n",
    "    dataframe.loc[dataframe['device_name'].str.contains('LG-', na=False), 'device_name'] = 'LG'\n",
    "    dataframe.loc[dataframe['device_name'].str.contains('rv:', na=False), 'device_name'] = 'RV'\n",
    "    dataframe.loc[dataframe['device_name'].str.contains('HUAWEI', na=False), 'device_name'] = 'Huawei'\n",
    "    dataframe.loc[dataframe['device_name'].str.contains('ALE-', na=False), 'device_name'] = 'Huawei'\n",
    "    dataframe.loc[dataframe['device_name'].str.contains('-L', na=False), 'device_name'] = 'Huawei'\n",
    "    dataframe.loc[dataframe['device_name'].str.contains('Blade', na=False), 'device_name'] = 'ZTE'\n",
    "    dataframe.loc[dataframe['device_name'].str.contains('BLADE', na=False), 'device_name'] = 'ZTE'\n",
    "    dataframe.loc[dataframe['device_name'].str.contains('Linux', na=False), 'device_name'] = 'Linux'\n",
    "    dataframe.loc[dataframe['device_name'].str.contains('XT', na=False), 'device_name'] = 'Sony'\n",
    "    dataframe.loc[dataframe['device_name'].str.contains('HTC', na=False), 'device_name'] = 'HTC'\n",
    "    dataframe.loc[dataframe['device_name'].str.contains('ASUS', na=False), 'device_name'] = 'Asus'\n",
    "\n",
    "    dataframe.loc[dataframe.device_name.isin(dataframe.device_name.value_counts()[dataframe.device_name.value_counts() < 200].index), 'device_name'] = \"Others\"\n",
    "    dataframe['had_id'] = 1\n",
    "    gc.collect()\n",
    "    \n",
    "    return dataframe"
   ]
  },
  {
   "cell_type": "code",
   "execution_count": 15,
   "metadata": {},
   "outputs": [],
   "source": [
    "train_identity = id_split(train_identity)\n",
    "test_identity = id_split(test_identity)"
   ]
  },
  {
   "cell_type": "code",
   "execution_count": 16,
   "metadata": {},
   "outputs": [
    {
     "name": "stdout",
     "output_type": "stream",
     "text": [
      "Merging data...\n",
      "Data was successfully merged!\n",
      "\n",
      "Train dataset has 590540 rows and 442 columns.\n",
      "Test dataset has 506691 rows and 441 columns.\n"
     ]
    },
    {
     "data": {
      "text/plain": [
       "35"
      ]
     },
     "execution_count": 16,
     "metadata": {},
     "output_type": "execute_result"
    }
   ],
   "source": [
    "print('Merging data...')\n",
    "train = train_transaction.merge(train_identity, how='left', left_index=True, right_index=True)\n",
    "test = test_transaction.merge(test_identity, how='left', left_index=True, right_index=True)\n",
    "\n",
    "print('Data was successfully merged!\\n')\n",
    "\n",
    "del train_identity, train_transaction, test_identity, test_transaction\n",
    "\n",
    "print(f'Train dataset has {train.shape[0]} rows and {train.shape[1]} columns.')\n",
    "print(f'Test dataset has {test.shape[0]} rows and {test.shape[1]} columns.')\n",
    "\n",
    "gc.collect()"
   ]
  },
  {
   "cell_type": "markdown",
   "metadata": {},
   "source": [
    "# FEATURE ENGINEERING INCELEMELERI"
   ]
  },
  {
   "cell_type": "markdown",
   "metadata": {},
   "source": [
    "## card1, card4 ve addr1 degiskenlerinin Tr AMT, id_02 ve D15 degiskeni ile iliskisinden uretilenler"
   ]
  },
  {
   "cell_type": "code",
   "execution_count": 10,
   "metadata": {},
   "outputs": [],
   "source": [
    "columns_a = ['TransactionAmt', 'id_02', 'D15']\n",
    "columns_b = ['card1', 'card4', 'addr1']\n",
    "\n",
    "for col_a in columns_a:\n",
    "    for col_b in columns_b:\n",
    "        for df in [train, test]:\n",
    "            df[f'{col_a}_to_mean_{col_b}'] = df[col_a] / df.groupby([col_b])[col_a].transform('mean')\n",
    "            df[f'{col_a}_to_std_{col_b}'] = df[col_a] / df.groupby([col_b])[col_a].transform('std')"
   ]
  },
  {
   "cell_type": "markdown",
   "metadata": {},
   "source": [
    "### TransactionAmt ile card1 arasinda"
   ]
  },
  {
   "cell_type": "code",
   "execution_count": 43,
   "metadata": {},
   "outputs": [
    {
     "data": {
      "text/plain": [
       "TransactionID\n",
       "2987000    0.194640\n",
       "2987001    0.123777\n",
       "2987002    0.608150\n",
       "2987003    0.405133\n",
       "2987004    0.515612\n",
       "Name: TransactionAmt, dtype: float64"
      ]
     },
     "execution_count": 43,
     "metadata": {},
     "output_type": "execute_result"
    }
   ],
   "source": [
    "(train['TransactionAmt'] / train.groupby('card1')['TransactionAmt'].transform('mean')).head(5)\n",
    "\n",
    "# ornegin transactionID 2987000'in AMT'si 68.5, her bir tID'nin card1 degeri var ama ayni card1 baska islemlerde de var, yani 2987000 isleminin card1 bilgisi ornegin 100 ve bu card1 10 farkli tID'de devar, hepsinin harcamalarinin ortalamasini\n",
    "# buluyor ve 68.5 degerini bu ortalamaya boluyor, card1'i bir sahis gibi dusunursek, card'1 in butun harcamalarinin ortalamasini aliyor ve bir harcamasina boluyor\n",
    "# yani alttaki %19 card1'nin toplam harcamasinin ortalamasinin %19'u bu harcamada gerceklesmis diyor, "
   ]
  },
  {
   "cell_type": "code",
   "execution_count": 51,
   "metadata": {},
   "outputs": [
    {
     "data": {
      "text/plain": [
       "TransactionID\n",
       "2987000    0.184566\n",
       "2987001    0.062995\n",
       "2987002    0.589241\n",
       "2987003    0.259447\n",
       "2987004    0.882933\n",
       "Name: TransactionAmt, dtype: float64"
      ]
     },
     "execution_count": 51,
     "metadata": {},
     "output_type": "execute_result"
    }
   ],
   "source": [
    "(train['TransactionAmt'] / train.groupby('card1')['TransactionAmt'].transform('std')).head(5)"
   ]
  },
  {
   "cell_type": "markdown",
   "metadata": {},
   "source": [
    "### TransactionAmt ile card4 arasinda"
   ]
  },
  {
   "cell_type": "code",
   "execution_count": 46,
   "metadata": {},
   "outputs": [
    {
     "data": {
      "text/plain": [
       "TransactionID\n",
       "2987000    0.257761\n",
       "2987001    0.219054\n",
       "2987002    0.443070\n",
       "2987003    0.377679\n",
       "2987004    0.377679\n",
       "Name: TransactionAmt, dtype: float64"
      ]
     },
     "execution_count": 46,
     "metadata": {},
     "output_type": "execute_result"
    }
   ],
   "source": [
    "(train['TransactionAmt'] / train.groupby('card4')['TransactionAmt'].transform('mean')).head(5)\n",
    "\n",
    "# card4 ornegin VISA, visa ile yapilan harcamalarin ortalamasi diyelim 1000 dolar, 2987000 de yapilan islem ise 10 dolar, oran %10 oluyor,\n",
    "# yani 2987000 id numarali islem, visa kart tipiyle yapilmis ve islemin miktarinin visa ile yapilan islemlerin tutarlarinin ortalamasina orani %25"
   ]
  },
  {
   "cell_type": "code",
   "execution_count": 52,
   "metadata": {},
   "outputs": [
    {
     "data": {
      "text/plain": [
       "TransactionID\n",
       "2987000    0.170233\n",
       "2987001    0.114212\n",
       "2987002    0.258544\n",
       "2987003    0.196917\n",
       "2987004    0.196917\n",
       "Name: TransactionAmt, dtype: float64"
      ]
     },
     "execution_count": 52,
     "metadata": {},
     "output_type": "execute_result"
    }
   ],
   "source": [
    "(train['TransactionAmt'] / train.groupby('card4')['TransactionAmt'].transform('std')).head(5)"
   ]
  },
  {
   "cell_type": "markdown",
   "metadata": {},
   "source": [
    "### TransactionAmt ile addr1 arasinda"
   ]
  },
  {
   "cell_type": "code",
   "execution_count": 49,
   "metadata": {},
   "outputs": [
    {
     "data": {
      "text/plain": [
       "TransactionID\n",
       "2987000    0.509556\n",
       "2987001    0.186032\n",
       "2987002    0.445765\n",
       "2987003    0.368830\n",
       "2987004    0.306863\n",
       "Name: TransactionAmt, dtype: float64"
      ]
     },
     "execution_count": 49,
     "metadata": {},
     "output_type": "execute_result"
    }
   ],
   "source": [
    "(train['TransactionAmt'] / train.groupby('addr1')['TransactionAmt'].transform('mean')).head(5)\n",
    "\n",
    "# addr1'in zipcode oldugu dusunuldugunde, ayni zipcode'dan yapilan butun islem tutarlarinin ortalamasi ile o zipcode'dan yapilan tek bir islemin orani"
   ]
  },
  {
   "cell_type": "code",
   "execution_count": 53,
   "metadata": {},
   "outputs": [
    {
     "data": {
      "text/plain": [
       "TransactionID\n",
       "2987000    0.286941\n",
       "2987001    0.116132\n",
       "2987002    0.254240\n",
       "2987003    0.235658\n",
       "2987004    0.185845\n",
       "Name: TransactionAmt, dtype: float64"
      ]
     },
     "execution_count": 53,
     "metadata": {},
     "output_type": "execute_result"
    }
   ],
   "source": [
    "(train['TransactionAmt'] / train.groupby('addr1')['TransactionAmt'].transform('std')).head(5)"
   ]
  },
  {
   "cell_type": "markdown",
   "metadata": {},
   "source": [
    "### id_02 ile card1 arasinda"
   ]
  },
  {
   "cell_type": "code",
   "execution_count": 55,
   "metadata": {},
   "outputs": [
    {
     "data": {
      "text/plain": [
       "TransactionID\n",
       "2987000         NaN\n",
       "2987001         NaN\n",
       "2987002         NaN\n",
       "2987003         NaN\n",
       "2987004    0.764773\n",
       "Name: id_02, dtype: float64"
      ]
     },
     "execution_count": 55,
     "metadata": {},
     "output_type": "execute_result"
    }
   ],
   "source": [
    "(train['id_02'] / train.groupby('card1')['id_02'].transform('mean')).head(5)\n",
    "\n",
    "# yine card1'e gore yapilan bir islem ama id_02 nin ne deger tasidigini tam olarak anlayamadim"
   ]
  },
  {
   "cell_type": "code",
   "execution_count": 56,
   "metadata": {},
   "outputs": [
    {
     "data": {
      "text/plain": [
       "TransactionID\n",
       "2987000         NaN\n",
       "2987001         NaN\n",
       "2987002         NaN\n",
       "2987003         NaN\n",
       "2987004    1.753301\n",
       "Name: id_02, dtype: float64"
      ]
     },
     "execution_count": 56,
     "metadata": {},
     "output_type": "execute_result"
    }
   ],
   "source": [
    "(train['id_02'] / train.groupby('card1')['id_02'].transform('std')).head(5)"
   ]
  },
  {
   "cell_type": "markdown",
   "metadata": {},
   "source": [
    "### id_02 ile card4 arasinda"
   ]
  },
  {
   "cell_type": "code",
   "execution_count": 58,
   "metadata": {},
   "outputs": [
    {
     "data": {
      "text/plain": [
       "TransactionID\n",
       "2987000         NaN\n",
       "2987001         NaN\n",
       "2987002         NaN\n",
       "2987003         NaN\n",
       "2987004    0.373295\n",
       "Name: id_02, dtype: float64"
      ]
     },
     "execution_count": 58,
     "metadata": {},
     "output_type": "execute_result"
    }
   ],
   "source": [
    "(train['id_02'] / train.groupby('card4')['id_02'].transform('mean')).head(5)"
   ]
  },
  {
   "cell_type": "markdown",
   "metadata": {},
   "source": [
    "### id_02 ile addr1 arasinda"
   ]
  },
  {
   "cell_type": "code",
   "execution_count": 59,
   "metadata": {},
   "outputs": [
    {
     "data": {
      "text/plain": [
       "TransactionID\n",
       "2987000         NaN\n",
       "2987001         NaN\n",
       "2987002         NaN\n",
       "2987003         NaN\n",
       "2987004    0.627453\n",
       "Name: id_02, dtype: float64"
      ]
     },
     "execution_count": 59,
     "metadata": {},
     "output_type": "execute_result"
    }
   ],
   "source": [
    "(train['id_02'] / train.groupby('addr1')['id_02'].transform('mean')).head(5)"
   ]
  },
  {
   "cell_type": "markdown",
   "metadata": {},
   "source": [
    "### D15 ile card1 arasinda"
   ]
  },
  {
   "cell_type": "code",
   "execution_count": 60,
   "metadata": {},
   "outputs": [
    {
     "data": {
      "text/plain": [
       "TransactionID\n",
       "2987000    0.000000\n",
       "2987001    0.000000\n",
       "2987002    2.518583\n",
       "2987003    0.550272\n",
       "2987004         NaN\n",
       "Name: D15, dtype: float64"
      ]
     },
     "execution_count": 60,
     "metadata": {},
     "output_type": "execute_result"
    }
   ],
   "source": [
    "(train['D15'] / train.groupby('card1')['D15'].transform('mean')).head(5)"
   ]
  },
  {
   "cell_type": "markdown",
   "metadata": {},
   "source": [
    "### D15 ile card4 arasinda"
   ]
  },
  {
   "cell_type": "code",
   "execution_count": 62,
   "metadata": {},
   "outputs": [
    {
     "data": {
      "text/plain": [
       "TransactionID\n",
       "2987000    0.000000\n",
       "2987001    0.000000\n",
       "2987002    1.865915\n",
       "2987003    0.720057\n",
       "2987004         NaN\n",
       "Name: D15, dtype: float64"
      ]
     },
     "execution_count": 62,
     "metadata": {},
     "output_type": "execute_result"
    }
   ],
   "source": [
    "(train['D15'] / train.groupby('card4')['D15'].transform('mean')).head(5)"
   ]
  },
  {
   "cell_type": "markdown",
   "metadata": {},
   "source": [
    "### D15 ile addr1 arasinda"
   ]
  },
  {
   "cell_type": "code",
   "execution_count": 63,
   "metadata": {},
   "outputs": [
    {
     "data": {
      "text/plain": [
       "TransactionID\n",
       "2987000    0.000000\n",
       "2987001    0.000000\n",
       "2987002    1.611525\n",
       "2987003    0.686169\n",
       "2987004         NaN\n",
       "Name: D15, dtype: float64"
      ]
     },
     "execution_count": 63,
     "metadata": {},
     "output_type": "execute_result"
    }
   ],
   "source": [
    "(train['D15'] / train.groupby('addr1')['D15'].transform('mean')).head(5)"
   ]
  },
  {
   "cell_type": "markdown",
   "metadata": {},
   "source": [
    "### SONUC\n",
    "- card1-4 degiskenleri ile addr1 degiskeninin bireye ozel olabilecegi degerlendirildiginde, bunlardan yapilan islemlerin AMT miktarlari, ID_02 ve D15 degerlerinin toplamlarinin ortalamasi ve standart sapmasi belirlenip, her bir transaction id lerine orani tespit edilmis"
   ]
  },
  {
   "cell_type": "markdown",
   "metadata": {},
   "source": [
    "## log of transaction amount."
   ]
  },
  {
   "cell_type": "code",
   "execution_count": 67,
   "metadata": {},
   "outputs": [],
   "source": [
    "train['TransactionAmt_Log'] = np.log(train['TransactionAmt'])\n",
    "test['TransactionAmt_Log'] = np.log(test['TransactionAmt'])"
   ]
  },
  {
   "cell_type": "markdown",
   "metadata": {},
   "source": [
    "## decimal part of the transaction amount."
   ]
  },
  {
   "cell_type": "code",
   "execution_count": 69,
   "metadata": {},
   "outputs": [],
   "source": [
    "train['TransactionAmt_decimal'] = ((train['TransactionAmt'] - train['TransactionAmt'].astype(int)) * 1000).astype(int)\n",
    "test['TransactionAmt_decimal'] = ((test['TransactionAmt'] - test['TransactionAmt'].astype(int)) * 1000).astype(int)\n",
    "\n",
    "# dolar cinsinden yapilan harcamalarda 0'dan sonraki rakamlarin incelenmesin adina uretilmis bir feature"
   ]
  },
  {
   "cell_type": "markdown",
   "metadata": {},
   "source": [
    "## day of week in which a transaction happened"
   ]
  },
  {
   "cell_type": "code",
   "execution_count": 70,
   "metadata": {},
   "outputs": [],
   "source": [
    "train['Transaction_day_of_week'] = np.floor((train['TransactionDT'] / (3600 * 24) - 1) % 7)\n",
    "test['Transaction_day_of_week'] = np.floor((test['TransactionDT'] / (3600 * 24) - 1) % 7)"
   ]
  },
  {
   "cell_type": "markdown",
   "metadata": {},
   "source": [
    "## hour of the day in which a transaction happened."
   ]
  },
  {
   "cell_type": "code",
   "execution_count": 75,
   "metadata": {},
   "outputs": [],
   "source": [
    "train['Transaction_hour'] = np.floor(train['TransactionDT'] / 3600) % 24\n",
    "test['Transaction_hour'] = np.floor(test['TransactionDT'] / 3600) % 24"
   ]
  },
  {
   "cell_type": "markdown",
   "metadata": {},
   "source": [
    "## Some arbitrary features interaction (rasgele)\n",
    "- rasgele sectigi degiskenler arasinda herhangi bir islem yapmadan degerler uzerinden labelencoder islemi yapilmis, iki degisken strng formatinda birlestirilmis"
   ]
  },
  {
   "cell_type": "code",
   "execution_count": 76,
   "metadata": {},
   "outputs": [],
   "source": [
    "for feature in ['id_02__id_20', 'id_02__D8', 'D11__DeviceInfo', 'DeviceInfo__P_emaildomain', 'P_emaildomain__C2', \n",
    "                'card2__dist1', 'card1__card5', 'card2__id_20', 'card5__P_emaildomain', 'addr1__card1']:\n",
    "\n",
    "    f1, f2 = feature.split('__')\n",
    "    train[feature] = train[f1].astype(str) + '_' + train[f2].astype(str)\n",
    "    test[feature] = test[f1].astype(str) + '_' + test[f2].astype(str)\n",
    "\n",
    "    le = LabelEncoder()\n",
    "    le.fit(list(train[feature].astype(str).values) + list(test[feature].astype(str).values))\n",
    "    train[feature] = le.transform(list(train[feature].astype(str).values))\n",
    "    test[feature] = le.transform(list(test[feature].astype(str).values))"
   ]
  },
  {
   "cell_type": "code",
   "execution_count": 97,
   "metadata": {
    "collapsed": true,
    "jupyter": {
     "outputs_hidden": true
    }
   },
   "outputs": [
    {
     "data": {
      "text/plain": [
       "TransactionID\n",
       "2987000           nan_nan\n",
       "2987001           nan_nan\n",
       "2987002           nan_nan\n",
       "2987003           nan_nan\n",
       "2987004     70787.0_144.0\n",
       "2987005           nan_nan\n",
       "2987006           nan_nan\n",
       "2987007           nan_nan\n",
       "2987008     98945.0_500.0\n",
       "2987009           nan_nan\n",
       "2987010    191631.0_142.0\n",
       "2987011    221832.0_507.0\n",
       "2987012           nan_nan\n",
       "2987013           nan_nan\n",
       "2987014           nan_nan\n",
       "2987015           nan_nan\n",
       "2987016      7460.0_575.0\n",
       "2987017     61141.0_600.0\n",
       "2987018           nan_nan\n",
       "2987019           nan_nan\n",
       "2987020           nan_nan\n",
       "2987021           nan_nan\n",
       "2987022           nan_nan\n",
       "2987023           nan_nan\n",
       "2987024           nan_nan\n",
       "2987025           nan_nan\n",
       "2987026           nan_nan\n",
       "2987027           nan_nan\n",
       "2987028           nan_nan\n",
       "2987029           nan_nan\n",
       "                ...      \n",
       "3577510           nan_nan\n",
       "3577511           nan_nan\n",
       "3577512           nan_nan\n",
       "3577513           nan_nan\n",
       "3577514           nan_nan\n",
       "3577515           nan_nan\n",
       "3577516           nan_nan\n",
       "3577517           nan_nan\n",
       "3577518           nan_nan\n",
       "3577519           nan_nan\n",
       "3577520           nan_nan\n",
       "3577521    145955.0_139.0\n",
       "3577522           nan_nan\n",
       "3577523           nan_nan\n",
       "3577524           nan_nan\n",
       "3577525           nan_nan\n",
       "3577526    172059.0_333.0\n",
       "3577527           nan_nan\n",
       "3577528           nan_nan\n",
       "3577529    632381.0_411.0\n",
       "3577530           nan_nan\n",
       "3577531     55528.0_368.0\n",
       "3577532           nan_nan\n",
       "3577533           nan_nan\n",
       "3577534    339406.0_595.0\n",
       "3577535           nan_nan\n",
       "3577536           nan_nan\n",
       "3577537           nan_nan\n",
       "3577538           nan_nan\n",
       "3577539           nan_nan\n",
       "Length: 590540, dtype: object"
      ]
     },
     "execution_count": 97,
     "metadata": {},
     "output_type": "execute_result"
    }
   ],
   "source": [
    "train['id_02'].astype(str) + '_' + train['id_20'].astype(str)\n",
    "\n",
    "# iki id degeri hakkinda da bir kanaat halen olusmadi, bu yuzden burada yapilanin anlamli olup olmadigi hakkinda bir kanaatim yok"
   ]
  },
  {
   "cell_type": "code",
   "execution_count": 98,
   "metadata": {
    "collapsed": true,
    "jupyter": {
     "outputs_hidden": true
    }
   },
   "outputs": [
    {
     "data": {
      "text/plain": [
       "TransactionID\n",
       "2987000                        nan_nan\n",
       "2987001                        nan_nan\n",
       "2987002                        nan_nan\n",
       "2987003                        nan_nan\n",
       "2987004                    70787.0_nan\n",
       "2987005                        nan_nan\n",
       "2987006                        nan_nan\n",
       "2987007                        nan_nan\n",
       "2987008                    98945.0_nan\n",
       "2987009                        nan_nan\n",
       "2987010                  191631.0_83.0\n",
       "2987011                   221832.0_nan\n",
       "2987012                        nan_nan\n",
       "2987013                        nan_nan\n",
       "2987014                        nan_nan\n",
       "2987015                        nan_nan\n",
       "2987016                    7460.0_26.0\n",
       "2987017                   61141.0_21.0\n",
       "2987018                        nan_nan\n",
       "2987019                        nan_nan\n",
       "2987020                        nan_nan\n",
       "2987021                        nan_nan\n",
       "2987022                        nan_nan\n",
       "2987023                        nan_nan\n",
       "2987024                        nan_nan\n",
       "2987025                        nan_nan\n",
       "2987026                        nan_nan\n",
       "2987027                        nan_nan\n",
       "2987028                        nan_nan\n",
       "2987029                        nan_nan\n",
       "                      ...             \n",
       "3577510                        nan_nan\n",
       "3577511                        nan_nan\n",
       "3577512                        nan_nan\n",
       "3577513                        nan_nan\n",
       "3577514                        nan_nan\n",
       "3577515                        nan_nan\n",
       "3577516                        nan_nan\n",
       "3577517                        nan_nan\n",
       "3577518                        nan_nan\n",
       "3577519                        nan_nan\n",
       "3577520                        nan_nan\n",
       "3577521    145955.0_0.9583330154418944\n",
       "3577522                        nan_nan\n",
       "3577523                        nan_nan\n",
       "3577524                        nan_nan\n",
       "3577525                        nan_nan\n",
       "3577526                   172059.0_nan\n",
       "3577527                        nan_nan\n",
       "3577528                        nan_nan\n",
       "3577529                   632381.0_nan\n",
       "3577530                        nan_nan\n",
       "3577531      55528.0_240.9583282470703\n",
       "3577532                        nan_nan\n",
       "3577533                        nan_nan\n",
       "3577534                   339406.0_nan\n",
       "3577535                        nan_nan\n",
       "3577536                        nan_nan\n",
       "3577537                        nan_nan\n",
       "3577538                        nan_nan\n",
       "3577539                        nan_nan\n",
       "Length: 590540, dtype: object"
      ]
     },
     "execution_count": 98,
     "metadata": {},
     "output_type": "execute_result"
    }
   ],
   "source": [
    "train['id_02'].astype(str) + '_' + train['D8'].astype(str)"
   ]
  },
  {
   "cell_type": "code",
   "execution_count": 99,
   "metadata": {
    "collapsed": true,
    "jupyter": {
     "outputs_hidden": true
    }
   },
   "outputs": [
    {
     "data": {
      "text/plain": [
       "TransactionID\n",
       "2987000                                  13.0_nan\n",
       "2987001                                   nan_nan\n",
       "2987002                                 315.0_nan\n",
       "2987003                                   nan_nan\n",
       "2987004         nan_SAMSUNG SM-G892A Build/NRD90M\n",
       "2987005                                   0.0_nan\n",
       "2987006                                   0.0_nan\n",
       "2987007                                   nan_nan\n",
       "2987008                            nan_iOS Device\n",
       "2987009                                 302.0_nan\n",
       "2987010                               nan_Windows\n",
       "2987011                                   nan_nan\n",
       "2987012                                   nan_nan\n",
       "2987013                                   nan_nan\n",
       "2987014                                   nan_nan\n",
       "2987015                                 423.0_nan\n",
       "2987016                                 nan_MacOS\n",
       "2987017                               nan_Windows\n",
       "2987018                                 237.0_nan\n",
       "2987019                                   nan_nan\n",
       "2987020                                   0.0_nan\n",
       "2987021                                   nan_nan\n",
       "2987022                                   nan_nan\n",
       "2987023                                   0.0_nan\n",
       "2987024                                   nan_nan\n",
       "2987025                                   nan_nan\n",
       "2987026                                   nan_nan\n",
       "2987027                                  35.0_nan\n",
       "2987028                                   nan_nan\n",
       "2987029                                   nan_nan\n",
       "                            ...                  \n",
       "3577510                                  83.0_nan\n",
       "3577511                                 518.0_nan\n",
       "3577512                                   0.0_nan\n",
       "3577513                                 471.0_nan\n",
       "3577514                                 120.0_nan\n",
       "3577515                                 218.0_nan\n",
       "3577516                                  61.0_nan\n",
       "3577517                                   0.0_nan\n",
       "3577518                                 223.0_nan\n",
       "3577519                                   0.0_nan\n",
       "3577520                                 290.0_nan\n",
       "3577521               nan_F3111 Build/33.3.A.1.97\n",
       "3577522                                 448.0_nan\n",
       "3577523                                   nan_nan\n",
       "3577524                                   0.0_nan\n",
       "3577525                                 644.0_nan\n",
       "3577526                   nan_A574BL Build/NMF26F\n",
       "3577527                                   0.0_nan\n",
       "3577528                                   0.0_nan\n",
       "3577529    nan_Moto E (4) Plus Build/NMA26.42-152\n",
       "3577530                                   nan_nan\n",
       "3577531                                 nan_MacOS\n",
       "3577532                                   0.0_nan\n",
       "3577533                                   6.0_nan\n",
       "3577534           nan_RNE-L03 Build/HUAWEIRNE-L03\n",
       "3577535                                  56.0_nan\n",
       "3577536                                   0.0_nan\n",
       "3577537                                   0.0_nan\n",
       "3577538                                  22.0_nan\n",
       "3577539                                   0.0_nan\n",
       "Length: 590540, dtype: object"
      ]
     },
     "execution_count": 99,
     "metadata": {},
     "output_type": "execute_result"
    }
   ],
   "source": [
    "train['D11'].astype(str) + '_' + train['DeviceInfo'].astype(str)"
   ]
  },
  {
   "cell_type": "code",
   "execution_count": 100,
   "metadata": {
    "collapsed": true,
    "jupyter": {
     "outputs_hidden": true
    }
   },
   "outputs": [
    {
     "data": {
      "text/plain": [
       "TransactionID\n",
       "2987000                                         nan_nan\n",
       "2987001                                   nan_gmail.com\n",
       "2987002                                 nan_outlook.com\n",
       "2987003                                   nan_yahoo.com\n",
       "2987004         SAMSUNG SM-G892A Build/NRD90M_gmail.com\n",
       "2987005                                   nan_gmail.com\n",
       "2987006                                   nan_yahoo.com\n",
       "2987007                                    nan_mail.com\n",
       "2987008                        iOS Device_anonymous.com\n",
       "2987009                                   nan_yahoo.com\n",
       "2987010                               Windows_gmail.com\n",
       "2987011                                 nan_hotmail.com\n",
       "2987012                                 nan_verizon.net\n",
       "2987013                                     nan_aol.com\n",
       "2987014                                   nan_yahoo.com\n",
       "2987015                                         nan_nan\n",
       "2987016                                   MacOS_aol.com\n",
       "2987017                               Windows_yahoo.com\n",
       "2987018                                   nan_gmail.com\n",
       "2987019                                   nan_gmail.com\n",
       "2987020                                   nan_gmail.com\n",
       "2987021                                   nan_gmail.com\n",
       "2987022                                   nan_gmail.com\n",
       "2987023                                   nan_gmail.com\n",
       "2987024                                   nan_gmail.com\n",
       "2987025                                   nan_gmail.com\n",
       "2987026                                      nan_me.com\n",
       "2987027                                   nan_yahoo.com\n",
       "2987028                                         nan_nan\n",
       "2987029                                   nan_gmail.com\n",
       "                               ...                     \n",
       "3577510                                   nan_gmail.com\n",
       "3577511                                     nan_aol.com\n",
       "3577512                                 nan_hotmail.com\n",
       "3577513                                   nan_yahoo.com\n",
       "3577514                                 nan_comcast.net\n",
       "3577515                                   nan_yahoo.com\n",
       "3577516                                   nan_gmail.com\n",
       "3577517                                 nan_hotmail.com\n",
       "3577518                                   nan_gmail.com\n",
       "3577519                                     nan_aol.com\n",
       "3577520                                   nan_yahoo.com\n",
       "3577521                F3111 Build/33.3.A.1.97_yahoo.fr\n",
       "3577522                                   nan_gmail.com\n",
       "3577523                                   nan_gmail.com\n",
       "3577524                                   nan_gmail.com\n",
       "3577525                                   nan_gmail.com\n",
       "3577526                   A574BL Build/NMF26F_gmail.com\n",
       "3577527                                     nan_aol.com\n",
       "3577528                                   nan_gmail.com\n",
       "3577529    Moto E (4) Plus Build/NMA26.42-152_gmail.com\n",
       "3577530                                   nan_yahoo.com\n",
       "3577531                                 MacOS_gmail.com\n",
       "3577532                               nan_optonline.net\n",
       "3577533                                   nan_gmail.com\n",
       "3577534           RNE-L03 Build/HUAWEIRNE-L03_gmail.com\n",
       "3577535                                         nan_nan\n",
       "3577536                                   nan_gmail.com\n",
       "3577537                                   nan_gmail.com\n",
       "3577538                                     nan_aol.com\n",
       "3577539                                   nan_gmail.com\n",
       "Length: 590540, dtype: object"
      ]
     },
     "execution_count": 100,
     "metadata": {},
     "output_type": "execute_result"
    }
   ],
   "source": [
    "train['DeviceInfo'].astype(str) + '_' + train['P_emaildomain'].astype(str)"
   ]
  },
  {
   "cell_type": "code",
   "execution_count": 101,
   "metadata": {
    "collapsed": true,
    "jupyter": {
     "outputs_hidden": true
    }
   },
   "outputs": [
    {
     "data": {
      "text/plain": [
       "TransactionID\n",
       "2987000              nan_1.0\n",
       "2987001        gmail.com_1.0\n",
       "2987002      outlook.com_1.0\n",
       "2987003        yahoo.com_5.0\n",
       "2987004        gmail.com_1.0\n",
       "2987005        gmail.com_1.0\n",
       "2987006        yahoo.com_1.0\n",
       "2987007         mail.com_1.0\n",
       "2987008    anonymous.com_1.0\n",
       "2987009        yahoo.com_2.0\n",
       "2987010        gmail.com_4.0\n",
       "2987011      hotmail.com_1.0\n",
       "2987012      verizon.net_2.0\n",
       "2987013          aol.com_5.0\n",
       "2987014        yahoo.com_1.0\n",
       "2987015              nan_4.0\n",
       "2987016          aol.com_1.0\n",
       "2987017        yahoo.com_1.0\n",
       "2987018        gmail.com_1.0\n",
       "2987019        gmail.com_5.0\n",
       "2987020        gmail.com_1.0\n",
       "2987021      gmail.com_120.0\n",
       "2987022        gmail.com_1.0\n",
       "2987023        gmail.com_1.0\n",
       "2987024        gmail.com_5.0\n",
       "2987025        gmail.com_1.0\n",
       "2987026           me.com_1.0\n",
       "2987027        yahoo.com_2.0\n",
       "2987028              nan_1.0\n",
       "2987029        gmail.com_1.0\n",
       "                 ...        \n",
       "3577510        gmail.com_1.0\n",
       "3577511          aol.com_3.0\n",
       "3577512      hotmail.com_1.0\n",
       "3577513        yahoo.com_1.0\n",
       "3577514      comcast.net_5.0\n",
       "3577515        yahoo.com_1.0\n",
       "3577516        gmail.com_1.0\n",
       "3577517      hotmail.com_1.0\n",
       "3577518        gmail.com_2.0\n",
       "3577519          aol.com_2.0\n",
       "3577520        yahoo.com_3.0\n",
       "3577521         yahoo.fr_9.0\n",
       "3577522        gmail.com_1.0\n",
       "3577523        gmail.com_1.0\n",
       "3577524        gmail.com_2.0\n",
       "3577525        gmail.com_3.0\n",
       "3577526        gmail.com_1.0\n",
       "3577527          aol.com_3.0\n",
       "3577528        gmail.com_1.0\n",
       "3577529        gmail.com_1.0\n",
       "3577530        yahoo.com_1.0\n",
       "3577531        gmail.com_3.0\n",
       "3577532    optonline.net_1.0\n",
       "3577533        gmail.com_1.0\n",
       "3577534        gmail.com_1.0\n",
       "3577535              nan_1.0\n",
       "3577536        gmail.com_1.0\n",
       "3577537        gmail.com_1.0\n",
       "3577538          aol.com_1.0\n",
       "3577539        gmail.com_1.0\n",
       "Length: 590540, dtype: object"
      ]
     },
     "execution_count": 101,
     "metadata": {},
     "output_type": "execute_result"
    }
   ],
   "source": [
    "train['P_emaildomain'].astype(str) + '_' + train['C2'].astype(str)"
   ]
  },
  {
   "cell_type": "code",
   "execution_count": 103,
   "metadata": {
    "collapsed": true,
    "jupyter": {
     "outputs_hidden": true
    }
   },
   "outputs": [
    {
     "data": {
      "text/plain": [
       "TransactionID\n",
       "2987000        nan_19.0\n",
       "2987001       404.0_nan\n",
       "2987002     490.0_287.0\n",
       "2987003       567.0_nan\n",
       "2987004       514.0_nan\n",
       "2987005      555.0_36.0\n",
       "2987006       360.0_0.0\n",
       "2987007       490.0_nan\n",
       "2987008       100.0_nan\n",
       "2987009      111.0_19.0\n",
       "2987010       352.0_nan\n",
       "2987011       375.0_nan\n",
       "2987012       418.0_nan\n",
       "2987013       303.0_nan\n",
       "2987014       490.0_nan\n",
       "2987015       555.0_3.0\n",
       "2987016       555.0_nan\n",
       "2987017       111.0_nan\n",
       "2987018       490.0_5.0\n",
       "2987019       111.0_nan\n",
       "2987020       314.0_0.0\n",
       "2987021       543.0_nan\n",
       "2987022       583.0_nan\n",
       "2987023       360.0_4.0\n",
       "2987024       360.0_nan\n",
       "2987025       111.0_nan\n",
       "2987026       148.0_nan\n",
       "2987027      321.0_17.0\n",
       "2987028       269.0_nan\n",
       "2987029       361.0_nan\n",
       "               ...     \n",
       "3577510       321.0_nan\n",
       "3577511       555.0_1.0\n",
       "3577512       343.0_nan\n",
       "3577513       555.0_3.0\n",
       "3577514    555.0_1917.0\n",
       "3577515      321.0_49.0\n",
       "3577516      321.0_21.0\n",
       "3577517       343.0_nan\n",
       "3577518      298.0_29.0\n",
       "3577519       452.0_nan\n",
       "3577520       292.0_4.0\n",
       "3577521       305.0_nan\n",
       "3577522       559.0_2.0\n",
       "3577523       456.0_nan\n",
       "3577524       481.0_nan\n",
       "3577525      570.0_12.0\n",
       "3577526       174.0_nan\n",
       "3577527       555.0_nan\n",
       "3577528       170.0_nan\n",
       "3577529       555.0_nan\n",
       "3577530       170.0_nan\n",
       "3577531       583.0_nan\n",
       "3577532       595.0_nan\n",
       "3577533     321.0_152.0\n",
       "3577534       408.0_nan\n",
       "3577535        nan_48.0\n",
       "3577536       225.0_nan\n",
       "3577537       595.0_nan\n",
       "3577538       481.0_3.0\n",
       "3577539       170.0_nan\n",
       "Length: 590540, dtype: object"
      ]
     },
     "execution_count": 103,
     "metadata": {},
     "output_type": "execute_result"
    }
   ],
   "source": [
    "train['card2'].astype(str) + '_' + train['dist1'].astype(str)\n",
    "\n",
    "# bu mantikli olabilir mi?\n",
    "# card degiskenlerinin kisiye ozel durumlari olabilir ve dist1 ile birlikte degerlendirilebilir mi?"
   ]
  },
  {
   "cell_type": "code",
   "execution_count": 104,
   "metadata": {
    "collapsed": true,
    "jupyter": {
     "outputs_hidden": true
    }
   },
   "outputs": [
    {
     "data": {
      "text/plain": [
       "TransactionID\n",
       "2987000    13926_142.0\n",
       "2987001     2755_102.0\n",
       "2987002     4663_166.0\n",
       "2987003    18132_117.0\n",
       "2987004     4497_102.0\n",
       "2987005     5937_226.0\n",
       "2987006    12308_166.0\n",
       "2987007    12695_226.0\n",
       "2987008     2803_226.0\n",
       "2987009    17399_224.0\n",
       "2987010    16496_134.0\n",
       "2987011     4461_224.0\n",
       "2987012     3786_226.0\n",
       "2987013    12866_226.0\n",
       "2987014    11839_226.0\n",
       "2987015     7055_226.0\n",
       "2987016     1790_226.0\n",
       "2987017    11492_219.0\n",
       "2987018     4663_166.0\n",
       "2987019     7005_226.0\n",
       "2987020     7875_224.0\n",
       "2987021    11401_117.0\n",
       "2987022     1724_226.0\n",
       "2987023     2392_166.0\n",
       "2987024    10112_166.0\n",
       "2987025    15385_224.0\n",
       "2987026    17868_226.0\n",
       "2987027    11307_226.0\n",
       "2987028     8431_224.0\n",
       "2987029    12932_226.0\n",
       "              ...     \n",
       "3577510     9500_226.0\n",
       "3577511    12059_226.0\n",
       "3577512    16873_226.0\n",
       "3577513     2198_166.0\n",
       "3577514     2487_226.0\n",
       "3577515     4219_226.0\n",
       "3577516    17188_226.0\n",
       "3577517    16873_226.0\n",
       "3577518    11204_226.0\n",
       "3577519    18018_117.0\n",
       "3577520    17150_226.0\n",
       "3577521    12019_224.0\n",
       "3577522     3166_166.0\n",
       "3577523    13076_117.0\n",
       "3577524     7826_224.0\n",
       "3577525    11942_226.0\n",
       "3577526     1214_226.0\n",
       "3577527     6453_226.0\n",
       "3577528    15066_102.0\n",
       "3577529     5096_137.0\n",
       "3577530    15066_102.0\n",
       "3577531     6019_226.0\n",
       "3577532    12037_224.0\n",
       "3577533    13071_226.0\n",
       "3577534     5812_224.0\n",
       "3577535     6550_226.0\n",
       "3577536    10444_224.0\n",
       "3577537    12037_224.0\n",
       "3577538     7826_224.0\n",
       "3577539    15066_102.0\n",
       "Length: 590540, dtype: object"
      ]
     },
     "execution_count": 104,
     "metadata": {},
     "output_type": "execute_result"
    }
   ],
   "source": [
    "train['card1'].astype(str) + '_' + train['card5'].astype(str)\n",
    "\n",
    "# mantikli olabilir"
   ]
  },
  {
   "cell_type": "code",
   "execution_count": 105,
   "metadata": {
    "collapsed": true,
    "jupyter": {
     "outputs_hidden": true
    }
   },
   "outputs": [
    {
     "data": {
      "text/plain": [
       "TransactionID\n",
       "2987000        nan_nan\n",
       "2987001      404.0_nan\n",
       "2987002      490.0_nan\n",
       "2987003      567.0_nan\n",
       "2987004    514.0_144.0\n",
       "2987005      555.0_nan\n",
       "2987006      360.0_nan\n",
       "2987007      490.0_nan\n",
       "2987008    100.0_500.0\n",
       "2987009      111.0_nan\n",
       "2987010    352.0_142.0\n",
       "2987011    375.0_507.0\n",
       "2987012      418.0_nan\n",
       "2987013      303.0_nan\n",
       "2987014      490.0_nan\n",
       "2987015      555.0_nan\n",
       "2987016    555.0_575.0\n",
       "2987017    111.0_600.0\n",
       "2987018      490.0_nan\n",
       "2987019      111.0_nan\n",
       "2987020      314.0_nan\n",
       "2987021      543.0_nan\n",
       "2987022      583.0_nan\n",
       "2987023      360.0_nan\n",
       "2987024      360.0_nan\n",
       "2987025      111.0_nan\n",
       "2987026      148.0_nan\n",
       "2987027      321.0_nan\n",
       "2987028      269.0_nan\n",
       "2987029      361.0_nan\n",
       "              ...     \n",
       "3577510      321.0_nan\n",
       "3577511      555.0_nan\n",
       "3577512      343.0_nan\n",
       "3577513      555.0_nan\n",
       "3577514      555.0_nan\n",
       "3577515      321.0_nan\n",
       "3577516      321.0_nan\n",
       "3577517      343.0_nan\n",
       "3577518      298.0_nan\n",
       "3577519      452.0_nan\n",
       "3577520      292.0_nan\n",
       "3577521    305.0_139.0\n",
       "3577522      559.0_nan\n",
       "3577523      456.0_nan\n",
       "3577524      481.0_nan\n",
       "3577525      570.0_nan\n",
       "3577526    174.0_333.0\n",
       "3577527      555.0_nan\n",
       "3577528      170.0_nan\n",
       "3577529    555.0_411.0\n",
       "3577530      170.0_nan\n",
       "3577531    583.0_368.0\n",
       "3577532      595.0_nan\n",
       "3577533      321.0_nan\n",
       "3577534    408.0_595.0\n",
       "3577535        nan_nan\n",
       "3577536      225.0_nan\n",
       "3577537      595.0_nan\n",
       "3577538      481.0_nan\n",
       "3577539      170.0_nan\n",
       "Length: 590540, dtype: object"
      ]
     },
     "execution_count": 105,
     "metadata": {},
     "output_type": "execute_result"
    }
   ],
   "source": [
    "train['card2'].astype(str) + '_' + train['id_20'].astype(str)"
   ]
  },
  {
   "cell_type": "code",
   "execution_count": 106,
   "metadata": {
    "collapsed": true,
    "jupyter": {
     "outputs_hidden": true
    }
   },
   "outputs": [
    {
     "data": {
      "text/plain": [
       "TransactionID\n",
       "2987000              142.0_nan\n",
       "2987001        102.0_gmail.com\n",
       "2987002      166.0_outlook.com\n",
       "2987003        117.0_yahoo.com\n",
       "2987004        102.0_gmail.com\n",
       "2987005        226.0_gmail.com\n",
       "2987006        166.0_yahoo.com\n",
       "2987007         226.0_mail.com\n",
       "2987008    226.0_anonymous.com\n",
       "2987009        224.0_yahoo.com\n",
       "2987010        134.0_gmail.com\n",
       "2987011      224.0_hotmail.com\n",
       "2987012      226.0_verizon.net\n",
       "2987013          226.0_aol.com\n",
       "2987014        226.0_yahoo.com\n",
       "2987015              226.0_nan\n",
       "2987016          226.0_aol.com\n",
       "2987017        219.0_yahoo.com\n",
       "2987018        166.0_gmail.com\n",
       "2987019        226.0_gmail.com\n",
       "2987020        224.0_gmail.com\n",
       "2987021        117.0_gmail.com\n",
       "2987022        226.0_gmail.com\n",
       "2987023        166.0_gmail.com\n",
       "2987024        166.0_gmail.com\n",
       "2987025        224.0_gmail.com\n",
       "2987026           226.0_me.com\n",
       "2987027        226.0_yahoo.com\n",
       "2987028              224.0_nan\n",
       "2987029        226.0_gmail.com\n",
       "                  ...         \n",
       "3577510        226.0_gmail.com\n",
       "3577511          226.0_aol.com\n",
       "3577512      226.0_hotmail.com\n",
       "3577513        166.0_yahoo.com\n",
       "3577514      226.0_comcast.net\n",
       "3577515        226.0_yahoo.com\n",
       "3577516        226.0_gmail.com\n",
       "3577517      226.0_hotmail.com\n",
       "3577518        226.0_gmail.com\n",
       "3577519          117.0_aol.com\n",
       "3577520        226.0_yahoo.com\n",
       "3577521         224.0_yahoo.fr\n",
       "3577522        166.0_gmail.com\n",
       "3577523        117.0_gmail.com\n",
       "3577524        224.0_gmail.com\n",
       "3577525        226.0_gmail.com\n",
       "3577526        226.0_gmail.com\n",
       "3577527          226.0_aol.com\n",
       "3577528        102.0_gmail.com\n",
       "3577529        137.0_gmail.com\n",
       "3577530        102.0_yahoo.com\n",
       "3577531        226.0_gmail.com\n",
       "3577532    224.0_optonline.net\n",
       "3577533        226.0_gmail.com\n",
       "3577534        224.0_gmail.com\n",
       "3577535              226.0_nan\n",
       "3577536        224.0_gmail.com\n",
       "3577537        224.0_gmail.com\n",
       "3577538          224.0_aol.com\n",
       "3577539        102.0_gmail.com\n",
       "Length: 590540, dtype: object"
      ]
     },
     "execution_count": 106,
     "metadata": {},
     "output_type": "execute_result"
    }
   ],
   "source": [
    "train['card5'].astype(str) + '_' + train['P_emaildomain'].astype(str)"
   ]
  },
  {
   "cell_type": "code",
   "execution_count": 107,
   "metadata": {
    "collapsed": true,
    "jupyter": {
     "outputs_hidden": true
    }
   },
   "outputs": [
    {
     "data": {
      "text/plain": [
       "TransactionID\n",
       "2987000    315.0_13926\n",
       "2987001     325.0_2755\n",
       "2987002     330.0_4663\n",
       "2987003    476.0_18132\n",
       "2987004     420.0_4497\n",
       "2987005     272.0_5937\n",
       "2987006    126.0_12308\n",
       "2987007    325.0_12695\n",
       "2987008     337.0_2803\n",
       "2987009    204.0_17399\n",
       "2987010      nan_16496\n",
       "2987011       nan_4461\n",
       "2987012     204.0_3786\n",
       "2987013    330.0_12866\n",
       "2987014    226.0_11839\n",
       "2987015     315.0_7055\n",
       "2987016     170.0_1790\n",
       "2987017    204.0_11492\n",
       "2987018     184.0_4663\n",
       "2987019     264.0_7005\n",
       "2987020     299.0_7875\n",
       "2987021    204.0_11401\n",
       "2987022     299.0_1724\n",
       "2987023     126.0_2392\n",
       "2987024    264.0_10112\n",
       "2987025    441.0_15385\n",
       "2987026    472.0_17868\n",
       "2987027    337.0_11307\n",
       "2987028     251.0_8431\n",
       "2987029    204.0_12932\n",
       "              ...     \n",
       "3577510     204.0_9500\n",
       "3577511    110.0_12059\n",
       "3577512    110.0_16873\n",
       "3577513     315.0_2198\n",
       "3577514     337.0_2487\n",
       "3577515     472.0_4219\n",
       "3577516    204.0_17188\n",
       "3577517    110.0_16873\n",
       "3577518    272.0_11204\n",
       "3577519    264.0_18018\n",
       "3577520    204.0_17150\n",
       "3577521      nan_12019\n",
       "3577522     325.0_3166\n",
       "3577523    299.0_13076\n",
       "3577524     387.0_7826\n",
       "3577525    310.0_11942\n",
       "3577526     272.0_1214\n",
       "3577527     264.0_6453\n",
       "3577528    299.0_15066\n",
       "3577529       nan_5096\n",
       "3577530    299.0_15066\n",
       "3577531     337.0_6019\n",
       "3577532    231.0_12037\n",
       "3577533    485.0_13071\n",
       "3577534       nan_5812\n",
       "3577535     272.0_6550\n",
       "3577536    204.0_10444\n",
       "3577537    231.0_12037\n",
       "3577538     387.0_7826\n",
       "3577539    299.0_15066\n",
       "Length: 590540, dtype: object"
      ]
     },
     "execution_count": 107,
     "metadata": {},
     "output_type": "execute_result"
    }
   ],
   "source": [
    "train['addr1'].astype(str) + '_' + train['card1'].astype(str)"
   ]
  },
  {
   "cell_type": "markdown",
   "metadata": {},
   "source": [
    "## Encoding - count encoding for both train and test\n",
    "- ornegin train setindeki degiskenlerin value_counts degerlerine gore 13926 degerine sahip card1 43 tane, test setinde ise 13 tane, ikisini birlestiriyor ve hem train hem test setine train[card1_count_full] isimli bir degisken ekleyerek her bir transactionID'nin karsisina onun card1 degeri ne ise toplamda kac tane oldugunu yaziyor, mesela 2987000 id nin card1 degiskeni normalde 13926, eklenen degisken 56, bundan 56 tane var diyor"
   ]
  },
  {
   "cell_type": "code",
   "execution_count": 122,
   "metadata": {},
   "outputs": [],
   "source": [
    "for feature in ['card1', 'card2', 'card3', 'card4', 'card5', 'card6', 'id_36']:\n",
    "    train[feature + '_count_full'] = train[feature].map(pd.concat([train[feature], test[feature]], ignore_index=True).value_counts(dropna=False))\n",
    "    test[feature + '_count_full'] = test[feature].map(pd.concat([train[feature], test[feature]], ignore_index=True).value_counts(dropna=False))"
   ]
  },
  {
   "cell_type": "code",
   "execution_count": 108,
   "metadata": {
    "collapsed": true,
    "jupyter": {
     "outputs_hidden": true
    }
   },
   "outputs": [
    {
     "data": {
      "text/plain": [
       "TransactionID\n",
       "2987000       56\n",
       "2987001     1338\n",
       "2987002     1794\n",
       "2987003     7635\n",
       "2987004       30\n",
       "2987005       10\n",
       "2987006      320\n",
       "2987007    12732\n",
       "2987008    11043\n",
       "2987009     3319\n",
       "2987010        4\n",
       "2987011     5959\n",
       "2987012      403\n",
       "2987013     1076\n",
       "2987014     3561\n",
       "2987015       16\n",
       "2987016       29\n",
       "2987017       85\n",
       "2987018     1794\n",
       "2987019     1460\n",
       "2987020      104\n",
       "2987021      139\n",
       "2987022     2985\n",
       "2987023     2604\n",
       "2987024     6058\n",
       "2987025     1131\n",
       "2987026     1009\n",
       "2987027        5\n",
       "2987028     1201\n",
       "2987029     4906\n",
       "           ...  \n",
       "3577510    26243\n",
       "3577511       10\n",
       "3577512      598\n",
       "3577513       31\n",
       "3577514       29\n",
       "3577515      115\n",
       "3577516    19606\n",
       "3577517      598\n",
       "3577518      610\n",
       "3577519     2786\n",
       "3577520      147\n",
       "3577521       77\n",
       "3577522      693\n",
       "3577523      199\n",
       "3577524     5021\n",
       "3577525      259\n",
       "3577526      939\n",
       "3577527       98\n",
       "3577528    14606\n",
       "3577529        4\n",
       "3577530    14606\n",
       "3577531    13268\n",
       "3577532     1373\n",
       "3577533        7\n",
       "3577534     6697\n",
       "3577535     2110\n",
       "3577536       25\n",
       "3577537     1373\n",
       "3577538     5021\n",
       "3577539    14606\n",
       "Name: card1, Length: 590540, dtype: int64"
      ]
     },
     "execution_count": 108,
     "metadata": {},
     "output_type": "execute_result"
    }
   ],
   "source": [
    "train['card1'].map(pd.concat([train['card1'], test['card1']], ignore_index=True).value_counts(dropna=False))"
   ]
  },
  {
   "cell_type": "code",
   "execution_count": 113,
   "metadata": {},
   "outputs": [],
   "source": [
    "df = pd.concat([train['card1'], test['card1']], ignore_index=True).value_counts(dropna=False)"
   ]
  },
  {
   "cell_type": "code",
   "execution_count": 115,
   "metadata": {},
   "outputs": [
    {
     "data": {
      "text/plain": [
       "56"
      ]
     },
     "execution_count": 115,
     "metadata": {},
     "output_type": "execute_result"
    }
   ],
   "source": [
    "df[13926]"
   ]
  },
  {
   "cell_type": "code",
   "execution_count": 117,
   "metadata": {},
   "outputs": [
    {
     "data": {
      "text/plain": [
       "43"
      ]
     },
     "execution_count": 117,
     "metadata": {},
     "output_type": "execute_result"
    }
   ],
   "source": [
    "train['card1'].value_counts(dropna=False)[13926]"
   ]
  },
  {
   "cell_type": "code",
   "execution_count": 118,
   "metadata": {},
   "outputs": [
    {
     "data": {
      "text/plain": [
       "13"
      ]
     },
     "execution_count": 118,
     "metadata": {},
     "output_type": "execute_result"
    }
   ],
   "source": [
    "test['card1'].value_counts(dropna=False)[13926]"
   ]
  },
  {
   "cell_type": "code",
   "execution_count": 119,
   "metadata": {
    "collapsed": true,
    "jupyter": {
     "outputs_hidden": true
    }
   },
   "outputs": [
    {
     "data": {
      "text/plain": [
       "TransactionID\n",
       "2987000    819269\n",
       "2987001    819269\n",
       "2987002    819269\n",
       "2987003    819269\n",
       "2987004    267353\n",
       "2987005    819269\n",
       "2987006    819269\n",
       "2987007    819269\n",
       "2987008    267353\n",
       "2987009    819269\n",
       "2987010    267353\n",
       "2987011    267353\n",
       "2987012    819269\n",
       "2987013    819269\n",
       "2987014    819269\n",
       "2987015    819269\n",
       "2987016    267353\n",
       "2987017    267353\n",
       "2987018    819269\n",
       "2987019    819269\n",
       "2987020    819269\n",
       "2987021    819269\n",
       "2987022    819269\n",
       "2987023    819269\n",
       "2987024    819269\n",
       "2987025    819269\n",
       "2987026    819269\n",
       "2987027    819269\n",
       "2987028    819269\n",
       "2987029    819269\n",
       "            ...  \n",
       "3577510    819269\n",
       "3577511    819269\n",
       "3577512    819269\n",
       "3577513    819269\n",
       "3577514    819269\n",
       "3577515    819269\n",
       "3577516    819269\n",
       "3577517    819269\n",
       "3577518    819269\n",
       "3577519    819269\n",
       "3577520    819269\n",
       "3577521    267353\n",
       "3577522    819269\n",
       "3577523    819269\n",
       "3577524    819269\n",
       "3577525    819269\n",
       "3577526    267353\n",
       "3577527    819269\n",
       "3577528    819269\n",
       "3577529    267353\n",
       "3577530    819269\n",
       "3577531    267353\n",
       "3577532    819269\n",
       "3577533    819269\n",
       "3577534    267353\n",
       "3577535    819269\n",
       "3577536    819269\n",
       "3577537    819269\n",
       "3577538    819269\n",
       "3577539    819269\n",
       "Name: id_36, Length: 590540, dtype: int64"
      ]
     },
     "execution_count": 119,
     "metadata": {},
     "output_type": "execute_result"
    }
   ],
   "source": [
    "train['id_36'].map(pd.concat([train['id_36'], test['id_36']], ignore_index=True).value_counts(dropna=False))"
   ]
  },
  {
   "cell_type": "code",
   "execution_count": 121,
   "metadata": {},
   "outputs": [
    {
     "data": {
      "text/plain": [
       "NaN    819269\n",
       "F      267353\n",
       "T       10609\n",
       "Name: id_36, dtype: int64"
      ]
     },
     "execution_count": 121,
     "metadata": {},
     "output_type": "execute_result"
    }
   ],
   "source": [
    "pd.concat([train['id_36'], test['id_36']], ignore_index=True).value_counts(dropna=False)"
   ]
  },
  {
   "cell_type": "markdown",
   "metadata": {},
   "source": [
    "## Encoding - count encoding separately for train and test\n",
    "- ayni islemi bu sefer train test birlestirmeden yapiyor"
   ]
  },
  {
   "cell_type": "code",
   "execution_count": null,
   "metadata": {},
   "outputs": [],
   "source": [
    "for feature in ['id_01', 'id_31', 'id_33', 'id_36']:\n",
    "    train[feature + '_count_dist'] = train[feature].map(train[feature].value_counts(dropna=False))\n",
    "    test[feature + '_count_dist'] = test[feature].map(test[feature].value_counts(dropna=False))"
   ]
  },
  {
   "cell_type": "code",
   "execution_count": 124,
   "metadata": {
    "collapsed": true,
    "jupyter": {
     "outputs_hidden": true
    }
   },
   "outputs": [
    {
     "data": {
      "text/plain": [
       " NaN      446307\n",
       "-5.0       82170\n",
       " 0.0       19555\n",
       "-10.0      11257\n",
       "-20.0      11211\n",
       "-15.0       5674\n",
       "-25.0       4623\n",
       "-45.0       2143\n",
       "-35.0       1622\n",
       "-40.0       1385\n",
       "-100.0      1012\n",
       "-50.0        709\n",
       "-30.0        682\n",
       "-95.0        428\n",
       "-60.0        410\n",
       "-55.0        320\n",
       "-80.0        220\n",
       "-90.0        214\n",
       "-70.0         97\n",
       "-65.0         93\n",
       "-85.0         87\n",
       "-75.0         83\n",
       "-18.0         23\n",
       "-6.0          15\n",
       "-12.0         15\n",
       "-11.0         15\n",
       "-16.0         13\n",
       "-21.0         12\n",
       "-7.0          10\n",
       "-14.0         10\n",
       "           ...  \n",
       "-29.0          2\n",
       "-71.0          2\n",
       "-99.0          2\n",
       "-61.0          2\n",
       "-46.0          2\n",
       "-88.0          2\n",
       "-64.0          2\n",
       "-34.0          1\n",
       "-28.0          1\n",
       "-42.0          1\n",
       "-43.0          1\n",
       "-52.0          1\n",
       "-33.0          1\n",
       "-89.0          1\n",
       "-47.0          1\n",
       "-32.0          1\n",
       "-51.0          1\n",
       "-92.0          1\n",
       "-54.0          1\n",
       "-57.0          1\n",
       "-58.0          1\n",
       "-94.0          1\n",
       "-63.0          1\n",
       "-48.0          1\n",
       "-93.0          1\n",
       "-72.0          1\n",
       "-76.0          1\n",
       "-82.0          1\n",
       "-86.0          1\n",
       "-24.0          1\n",
       "Name: id_01, Length: 78, dtype: int64"
      ]
     },
     "execution_count": 124,
     "metadata": {},
     "output_type": "execute_result"
    }
   ],
   "source": [
    "train['id_01'].value_counts(dropna=False)"
   ]
  },
  {
   "cell_type": "code",
   "execution_count": 125,
   "metadata": {
    "collapsed": true,
    "jupyter": {
     "outputs_hidden": true
    }
   },
   "outputs": [
    {
     "data": {
      "text/plain": [
       "TransactionID\n",
       "2987000    446307\n",
       "2987001    446307\n",
       "2987002    446307\n",
       "2987003    446307\n",
       "2987004     19555\n",
       "2987005    446307\n",
       "2987006    446307\n",
       "2987007    446307\n",
       "2987008     82170\n",
       "2987009    446307\n",
       "2987010     82170\n",
       "2987011     82170\n",
       "2987012    446307\n",
       "2987013    446307\n",
       "2987014    446307\n",
       "2987015    446307\n",
       "2987016     19555\n",
       "2987017     82170\n",
       "2987018    446307\n",
       "2987019    446307\n",
       "2987020    446307\n",
       "2987021    446307\n",
       "2987022      5674\n",
       "2987023    446307\n",
       "2987024    446307\n",
       "2987025    446307\n",
       "2987026    446307\n",
       "2987027    446307\n",
       "2987028    446307\n",
       "2987029    446307\n",
       "            ...  \n",
       "3577510    446307\n",
       "3577511    446307\n",
       "3577512    446307\n",
       "3577513    446307\n",
       "3577514    446307\n",
       "3577515    446307\n",
       "3577516    446307\n",
       "3577517    446307\n",
       "3577518    446307\n",
       "3577519    446307\n",
       "3577520    446307\n",
       "3577521      5674\n",
       "3577522    446307\n",
       "3577523    446307\n",
       "3577524    446307\n",
       "3577525    446307\n",
       "3577526     82170\n",
       "3577527    446307\n",
       "3577528    446307\n",
       "3577529     11211\n",
       "3577530    446307\n",
       "3577531     82170\n",
       "3577532    446307\n",
       "3577533    446307\n",
       "3577534      2143\n",
       "3577535    446307\n",
       "3577536    446307\n",
       "3577537    446307\n",
       "3577538    446307\n",
       "3577539    446307\n",
       "Name: id_01, Length: 590540, dtype: int64"
      ]
     },
     "execution_count": 125,
     "metadata": {},
     "output_type": "execute_result"
    }
   ],
   "source": [
    "train['id_01'].map(train['id_01'].value_counts(dropna=False))"
   ]
  },
  {
   "cell_type": "code",
   "execution_count": null,
   "metadata": {},
   "outputs": [],
   "source": []
  }
 ],
 "metadata": {
  "kernelspec": {
   "display_name": "Python 3",
   "language": "python",
   "name": "python3"
  },
  "language_info": {
   "codemirror_mode": {
    "name": "ipython",
    "version": 3
   },
   "file_extension": ".py",
   "mimetype": "text/x-python",
   "name": "python",
   "nbconvert_exporter": "python",
   "pygments_lexer": "ipython3",
   "version": "3.7.3"
  }
 },
 "nbformat": 4,
 "nbformat_minor": 4
}
