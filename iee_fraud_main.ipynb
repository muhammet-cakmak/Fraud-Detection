{
 "cells": [
  {
   "cell_type": "markdown",
   "metadata": {},
   "source": [
    "# IEEE FRAUD NOTEBOOK"
   ]
  },
  {
   "cell_type": "code",
   "execution_count": 1,
   "metadata": {},
   "outputs": [],
   "source": [
    "import pandas as pd\n",
    "import numpy as np\n",
    "from tqdm import tqdm_notebook\n",
    "from sklearn.metrics import roc_auc_score\n",
    "import gc\n",
    "\n",
    "from sklearn.preprocessing import LabelEncoder\n",
    "\n",
    "import matplotlib.pyplot as plt\n",
    "import seaborn as sns\n",
    "sns.set()\n",
    "%matplotlib inline\n",
    "\n",
    "import warnings\n",
<<<<<<< HEAD
<<<<<<< HEAD
=======
<<<<<<< HEAD
>>>>>>> 77f8e7e... added
=======
>>>>>>> abbeab249deaaef1aa5a631b8e4d37362f016cab
    "warnings.filterwarnings('ignore')"
   ]
  },
  {
   "cell_type": "code",
   "execution_count": 2,
   "metadata": {},
   "outputs": [],
   "source": [
<<<<<<< HEAD
<<<<<<< HEAD
=======
=======
    "warnings.filterwarnings('ignore')\n",
    "\n",
>>>>>>> 0059197... feature_eng
>>>>>>> 77f8e7e... added
=======
>>>>>>> abbeab249deaaef1aa5a631b8e4d37362f016cab
    "pd.set_option('max_columns', None)"
   ]
  },
  {
   "cell_type": "code",
<<<<<<< HEAD
<<<<<<< HEAD
   "execution_count": 3,
=======
<<<<<<< HEAD
   "execution_count": 3,
=======
   "execution_count": 2,
>>>>>>> 0059197... feature_eng
>>>>>>> 77f8e7e... added
=======
   "execution_count": 3,
>>>>>>> abbeab249deaaef1aa5a631b8e4d37362f016cab
   "metadata": {},
   "outputs": [],
   "source": [
    "def reduce_mem_usage(df):\n",
    "    \"\"\" iterate through all the columns of a dataframe and modify the data type\n",
    "        to reduce memory usage.        \n",
    "    \"\"\"\n",
    "    start_mem = df.memory_usage().sum() / 1024**2\n",
    "    print('Memory usage of dataframe is {:.2f} MB'.format(start_mem))\n",
    "    \n",
    "    for col in df.columns:\n",
    "        col_type = df[col].dtype\n",
    "        \n",
    "        if col_type != object:\n",
    "            c_min = df[col].min()\n",
    "            c_max = df[col].max()\n",
    "            if str(col_type)[:3] == 'int':\n",
    "                if c_min > np.iinfo(np.int8).min and c_max < np.iinfo(np.int8).max:\n",
    "                    df[col] = df[col].astype(np.int8)\n",
    "                elif c_min > np.iinfo(np.int16).min and c_max < np.iinfo(np.int16).max:\n",
    "                    df[col] = df[col].astype(np.int16)\n",
    "                elif c_min > np.iinfo(np.int32).min and c_max < np.iinfo(np.int32).max:\n",
    "                    df[col] = df[col].astype(np.int32)\n",
    "                elif c_min > np.iinfo(np.int64).min and c_max < np.iinfo(np.int64).max:\n",
    "                    df[col] = df[col].astype(np.int64)  \n",
    "            else:\n",
    "                if c_min > np.finfo(np.float16).min and c_max < np.finfo(np.float16).max:\n",
    "                    df[col] = df[col].astype(np.float16)\n",
    "                elif c_min > np.finfo(np.float32).min and c_max < np.finfo(np.float32).max:\n",
    "                    df[col] = df[col].astype(np.float32)\n",
    "                else:\n",
    "                    df[col] = df[col].astype(np.float64)\n",
    "        else:\n",
    "            df[col] = df[col].astype('category')\n",
    "\n",
    "    end_mem = df.memory_usage().sum() / 1024**2\n",
    "    print('Memory usage after optimization is: {:.2f} MB'.format(end_mem))\n",
    "    print('Decreased by {:.1f}%'.format(100 * (start_mem - end_mem) / start_mem))\n",
    "    \n",
    "    return df"
   ]
  },
  {
   "cell_type": "code",
<<<<<<< HEAD
<<<<<<< HEAD
   "execution_count": 5,
=======
<<<<<<< HEAD
   "execution_count": 5,
=======
   "execution_count": 3,
>>>>>>> 0059197... feature_eng
>>>>>>> 77f8e7e... added
=======
   "execution_count": 5,
>>>>>>> abbeab249deaaef1aa5a631b8e4d37362f016cab
   "metadata": {},
   "outputs": [
    {
     "name": "stdout",
     "output_type": "stream",
     "text": [
      "Loading data...\n",
      "\tSuccessfully loaded train_identity!\n",
      "\tSuccessfully loaded train_transaction!\n",
      "\tSuccessfully loaded test_identity!\n",
      "\tSuccessfully loaded test_transaction!\n",
      "\tSuccessfully loaded sample_submission!\n",
      "Data was successfully loaded!\n",
      "\n",
<<<<<<< HEAD
<<<<<<< HEAD
      "CPU times: user 52.8 s, sys: 15.1 s, total: 1min 7s\n",
      "Wall time: 1min 25s\n"
=======
<<<<<<< HEAD
      "CPU times: user 52.8 s, sys: 15.1 s, total: 1min 7s\n",
      "Wall time: 1min 25s\n"
=======
      "Wall time: 1min 16s\n"
>>>>>>> 0059197... feature_eng
>>>>>>> 77f8e7e... added
=======
      "CPU times: user 52.8 s, sys: 15.1 s, total: 1min 7s\n",
      "Wall time: 1min 25s\n"
>>>>>>> abbeab249deaaef1aa5a631b8e4d37362f016cab
     ]
    }
   ],
   "source": [
    "%%time\n",
    "\n",
    "print('Loading data...')\n",
    "\n",
    "train_identity = pd.read_csv('train_identity.csv', index_col='TransactionID')\n",
    "print('\\tSuccessfully loaded train_identity!')\n",
    "\n",
    "train_transaction = pd.read_csv('train_transaction.csv', index_col='TransactionID')\n",
    "print('\\tSuccessfully loaded train_transaction!')\n",
    "\n",
    "test_identity = pd.read_csv('test_identity.csv', index_col='TransactionID')\n",
    "print('\\tSuccessfully loaded test_identity!')\n",
    "\n",
    "test_transaction = pd.read_csv('test_transaction.csv', index_col='TransactionID')\n",
    "print('\\tSuccessfully loaded test_transaction!')\n",
    "\n",
    "sub = pd.read_csv('sample_submission.csv')\n",
    "print('\\tSuccessfully loaded sample_submission!')\n",
    "\n",
    "test_identity.columns = train_identity.columns\n",
    "\n",
    "print('Data was successfully loaded!\\n')"
   ]
  },
  {
   "cell_type": "code",
<<<<<<< HEAD
<<<<<<< HEAD
   "execution_count": 7,
=======
<<<<<<< HEAD
   "execution_count": 7,
=======
   "execution_count": 6,
>>>>>>> 0059197... feature_eng
>>>>>>> 77f8e7e... added
=======
   "execution_count": 7,
>>>>>>> abbeab249deaaef1aa5a631b8e4d37362f016cab
   "metadata": {
    "scrolled": true
   },
   "outputs": [
    {
     "name": "stdout",
     "output_type": "stream",
     "text": [
      "Merging data...\n",
      "Data was successfully merged!\n",
      "\n",
      "Train dataset has 590540 rows and 433 columns.\n",
      "Test dataset has 506691 rows and 432 columns.\n"
     ]
    },
    {
     "data": {
      "text/plain": [
<<<<<<< HEAD
<<<<<<< HEAD
=======
<<<<<<< HEAD
>>>>>>> 77f8e7e... added
=======
>>>>>>> abbeab249deaaef1aa5a631b8e4d37362f016cab
       "11"
      ]
     },
     "execution_count": 7,
<<<<<<< HEAD
<<<<<<< HEAD
=======
=======
       "39"
      ]
     },
     "execution_count": 6,
>>>>>>> 0059197... feature_eng
>>>>>>> 77f8e7e... added
=======
>>>>>>> abbeab249deaaef1aa5a631b8e4d37362f016cab
     "metadata": {},
     "output_type": "execute_result"
    }
   ],
   "source": [
    "print('Merging data...')\n",
    "train = train_transaction.merge(train_identity, how='left', left_index=True, right_index=True)\n",
    "test = test_transaction.merge(test_identity, how='left', left_index=True, right_index=True)\n",
    "\n",
    "# \"isFraud\" bagımlı degiskenini y_train degiskenine atadık\n",
    "y_train = train[\"isFraud\"]\n",
    "# Train bagimsiz degiskenleri\n",
    "df_train = train.drop(\"isFraud\", axis=1)\n",
    "\n",
    "print('Data was successfully merged!\\n')\n",
    "\n",
    "del train_identity, train_transaction, test_identity, test_transaction\n",
    "\n",
    "print(f'Train dataset has {train.shape[0]} rows and {train.shape[1]} columns.')\n",
    "print(f'Test dataset has {test.shape[0]} rows and {test.shape[1]} columns.')\n",
    "\n",
    "gc.collect()"
   ]
  },
  {
   "cell_type": "markdown",
   "metadata": {},
   "source": [
    "### NOT: LÜTFEN YUKARIDAKİ HİÇBİR DEĞERİ VE DEĞİŞKENİ DEĞİŞTİRMEYİN.\n",
    "\n",
    "Örneğin train dosyasında değişiklik yapacaksanız aşağıdaki gibi copyasını alarak yapınız.\n",
    "df_train_copya = df_train.copy()\n"
   ]
  },
  {
   "cell_type": "markdown",
   "metadata": {},
   "source": [
    "# 1. Ozan\n"
   ]
  },
  {
   "cell_type": "code",
   "execution_count": null,
   "metadata": {},
   "outputs": [],
   "source": []
  },
  {
   "cell_type": "code",
   "execution_count": null,
   "metadata": {},
   "outputs": [],
   "source": []
  },
  {
   "cell_type": "code",
   "execution_count": null,
   "metadata": {},
   "outputs": [],
   "source": []
  },
  {
   "cell_type": "code",
   "execution_count": null,
   "metadata": {},
   "outputs": [],
   "source": []
  },
  {
   "cell_type": "markdown",
   "metadata": {},
   "source": [
    "# 2. Ümit"
   ]
  },
  {
   "cell_type": "code",
   "execution_count": null,
   "metadata": {},
   "outputs": [],
   "source": []
  },
  {
   "cell_type": "code",
   "execution_count": null,
   "metadata": {},
   "outputs": [],
   "source": []
  },
  {
   "cell_type": "code",
   "execution_count": null,
   "metadata": {},
   "outputs": [],
   "source": []
  },
  {
   "cell_type": "code",
   "execution_count": null,
   "metadata": {},
   "outputs": [],
   "source": []
  },
  {
   "cell_type": "code",
   "execution_count": null,
   "metadata": {},
   "outputs": [],
   "source": []
  },
  {
   "cell_type": "markdown",
   "metadata": {},
   "source": [
    "# 3. Muhammet(Alm)"
   ]
  },
  {
   "cell_type": "code",
   "execution_count": null,
   "metadata": {},
   "outputs": [],
   "source": []
  },
  {
   "cell_type": "code",
   "execution_count": null,
   "metadata": {},
   "outputs": [],
   "source": []
  },
  {
   "cell_type": "code",
   "execution_count": null,
   "metadata": {},
   "outputs": [],
   "source": []
  },
  {
   "cell_type": "code",
   "execution_count": null,
   "metadata": {},
   "outputs": [],
   "source": []
  },
  {
   "cell_type": "markdown",
   "metadata": {},
   "source": [
    "# 4. Ismail"
   ]
  },
  {
<<<<<<< HEAD
<<<<<<< HEAD
=======
<<<<<<< HEAD
=======
   "cell_type": "markdown",
   "metadata": {},
   "source": [
    "### 1-) (card1 - card4 - addr1) ile (TransactionAmt - id_02 - D15) arasinda uretilen degiskenler\n",
    "\n",
    "- https://www.kaggle.com/davidcairuz/feature-engineering-lightgbm"
   ]
  },
  {
>>>>>>> 0059197... feature_eng
>>>>>>> 77f8e7e... added
=======
>>>>>>> abbeab249deaaef1aa5a631b8e4d37362f016cab
   "cell_type": "code",
   "execution_count": null,
   "metadata": {},
   "outputs": [],
<<<<<<< HEAD
<<<<<<< HEAD
=======
<<<<<<< HEAD
>>>>>>> 77f8e7e... added
=======
>>>>>>> abbeab249deaaef1aa5a631b8e4d37362f016cab
   "source": []
  },
  {
   "cell_type": "code",
   "execution_count": null,
   "metadata": {},
   "outputs": [],
   "source": []
  },
  {
   "cell_type": "code",
   "execution_count": null,
   "metadata": {},
   "outputs": [],
   "source": []
  },
  {
   "cell_type": "code",
   "execution_count": null,
   "metadata": {},
   "outputs": [],
   "source": []
<<<<<<< HEAD
<<<<<<< HEAD
=======
=======
   "source": [
    "columns_a = ['TransactionAmt', 'id_02', 'D15']\n",
    "columns_b = ['card1', 'card4', 'addr1']\n",
    "\n",
    "for col_a in columns_a:\n",
    "    for col_b in columns_b:\n",
    "        for df in [train, test]:\n",
    "            df[f'{col_a}_to_mean_{col_b}'] = df[col_a] / df.groupby([col_b])[col_a].transform('mean')\n",
    "            df[f'{col_a}_to_std_{col_b}'] = df[col_a] / df.groupby([col_b])[col_a].transform('std')"
   ]
  },
  {
   "cell_type": "markdown",
   "metadata": {},
   "source": [
    "#### card1 - TransactionAmt\n",
    "\n",
    "- card1 degiskeni onemli bir degisken, kullanici belirlemede ise yarayabilecek bir degisken, burada yapilan her bir harcamanin (transactionID) card1 bilgisi var ama bu card ile baska harcamalarda yapilmis, bu card ile yapilan toplam harcamalarin ortalamasini (std icin de yapiyor) belirliyor ve sadece bu harcamadaki miktar ile oranina bakiyor,\n",
    "\n",
    "- mesela x card, 3 farkli islemde kullanilmis ve her islemde 5, 10, 15 para birimlik harcama yapilmis, sonucta x card islem basina harcama ortalamasi 10\n",
    "\n",
    "- 1.islemde gercek harcama 5/ ortalama harcama 10\n",
    "- 2.islemde 10/10\n",
    "- 3.islemde 15/10 \n",
    "\n",
    "- bu sekilde her islemdeki card'in o islemdeki harcamasinin toplam card harcama ortalamasina oranini tespit ediyoruz\n",
    "\n",
    "- bu islem hem MEAN hem de STD icin ayri ayri yapiliyor"
   ]
  },
  {
   "cell_type": "code",
   "execution_count": 11,
   "metadata": {
    "collapsed": true,
    "jupyter": {
     "outputs_hidden": true
    }
   },
   "outputs": [
    {
     "data": {
      "text/plain": [
       "TransactionID\n",
       "2987000    0.194580\n",
       "2987001    0.123779\n",
       "2987002    0.608398\n",
       "2987003    0.405029\n",
       "2987004    0.515625\n",
       "2987005    0.365234\n",
       "2987006    1.560547\n",
       "2987007    2.994141\n",
       "2987008    0.105164\n",
       "2987009    0.958984\n",
       "2987010    1.289062\n",
       "2987011    0.412598\n",
       "2987012    0.569824\n",
       "2987013    0.365234\n",
       "2987014    0.080994\n",
       "2987015    0.868164\n",
       "2987016    0.572754\n",
       "2987017    0.589355\n",
       "2987018    0.494141\n",
       "2987019    1.722656\n",
       "2987020    0.234741\n",
       "2987021    1.510742\n",
       "2987022    0.261230\n",
       "2987023    1.162109\n",
       "2987024    0.686035\n",
       "2987025    0.985840\n",
       "2987026    1.161133\n",
       "2987027    0.819824\n",
       "2987028    0.170288\n",
       "2987029    0.301514\n",
       "Name: TransactionAmt, dtype: float16"
      ]
     },
     "execution_count": 11,
     "metadata": {},
     "output_type": "execute_result"
    }
   ],
   "source": [
    "(train['TransactionAmt'] / train.groupby('card1')['TransactionAmt'].transform('mean')).head(30)"
   ]
  },
  {
   "cell_type": "markdown",
   "metadata": {},
   "source": [
    "#### card4 - TransactionAmt\n",
    "\n",
    "- card4 kartin visa, mastercard, debit vs... olup olmadigini bilgisini tutuyor, burada da ayni yukarida oldugu gibi, her bir islemdeki tutarin genel ortalamaya oranini veriyor"
   ]
  },
  {
   "cell_type": "code",
   "execution_count": 12,
   "metadata": {
    "collapsed": true,
    "jupyter": {
     "outputs_hidden": true
    }
   },
   "outputs": [
    {
     "data": {
      "text/plain": [
       "TransactionID\n",
       "2987000    0.257812\n",
       "2987001    0.219116\n",
       "2987002    0.443115\n",
       "2987003    0.377686\n",
       "2987004    0.377686\n",
       "2987005    0.368164\n",
       "2987006    1.194336\n",
       "2987007    3.173828\n",
       "2987008    0.112671\n",
       "2987009    0.883789\n",
       "2987010    0.573242\n",
       "2987011    0.124634\n",
       "2987012    0.375488\n",
       "2987013    0.300537\n",
       "2987014    0.078857\n",
       "2987015    0.435303\n",
       "2987016    0.225342\n",
       "2987017    0.755371\n",
       "2987018    0.360107\n",
       "2987019    1.397461\n",
       "2987020    0.294678\n",
       "2987021    1.208984\n",
       "2987022    0.375488\n",
       "2987023    0.815430\n",
       "2987024    0.555176\n",
       "2987025    0.815430\n",
       "2987026    1.381836\n",
       "2987027    0.360107\n",
       "2987028    0.151123\n",
       "2987029    0.277832\n",
       "Name: TransactionAmt, dtype: float16"
      ]
     },
     "execution_count": 12,
     "metadata": {},
     "output_type": "execute_result"
    }
   ],
   "source": [
    "(train['TransactionAmt'] / train.groupby('card4')['TransactionAmt'].transform('mean')).head(30)"
   ]
  },
  {
   "cell_type": "markdown",
   "metadata": {},
   "source": [
    "#### addr1 - TransactionAmt\n",
    "- addr1 degiskeni zipcode bilgisi veriyor, yani ayni zipcode'dan yapilan islemlerin tamamindaki miktarin ortalamasi ile ayni zipcode'dan yapilan her bir islemin orani hesaplanmis"
   ]
  },
  {
   "cell_type": "code",
   "execution_count": 14,
   "metadata": {
    "collapsed": true,
    "jupyter": {
     "outputs_hidden": true
    }
   },
   "outputs": [
    {
     "data": {
      "text/plain": [
       "TransactionID\n",
       "2987000    0.509766\n",
       "2987001    0.186035\n",
       "2987002    0.445801\n",
       "2987003    0.368652\n",
       "2987004    0.306885\n",
       "2987005    0.374023\n",
       "2987006    0.972656\n",
       "2987007    2.710938\n",
       "2987008    0.105347\n",
       "2987009    0.781738\n",
       "2987010         NaN\n",
       "2987011         NaN\n",
       "2987012    0.334229\n",
       "2987013    0.302246\n",
       "2987014    0.066223\n",
       "2987015    0.431152\n",
       "2987016    0.182739\n",
       "2987017    0.668457\n",
       "2987018    0.338867\n",
       "2987019    1.276367\n",
       "2987020    0.210815\n",
       "2987021    1.069336\n",
       "2987022    0.270264\n",
       "2987023    0.660156\n",
       "2987024    0.507324\n",
       "2987025    0.875488\n",
       "2987026    1.063477\n",
       "2987027    0.336670\n",
       "2987028    0.126831\n",
       "2987029    0.247314\n",
       "Name: TransactionAmt, dtype: float16"
      ]
     },
     "execution_count": 14,
     "metadata": {},
     "output_type": "execute_result"
    }
   ],
   "source": [
    "(train['TransactionAmt'] / train.groupby('addr1')['TransactionAmt'].transform('mean')).head(30)"
   ]
  },
  {
   "cell_type": "markdown",
   "metadata": {},
   "source": [
    "#### card1 - id_02\n",
    "\n",
    "- card1'i grupluyor ve id_02 degerlerinin mean ve std'sini cikartiyor, \n",
    "- id_02 degeri 1'den baslayip yaklasik 1 milyona kadar artan, ortalamasi 175000 civari olan bir sayisal deger, ne ifade ettigini anlayamadim\n",
    "- id_02'yi anlayamadigim icin buradaki feature uretmenin de mantigini cozemedim"
   ]
  },
  {
   "cell_type": "code",
   "execution_count": 15,
   "metadata": {
    "collapsed": true,
    "jupyter": {
     "outputs_hidden": true
    }
   },
   "outputs": [
    {
     "data": {
      "text/plain": [
       "TransactionID\n",
       "2987000         NaN\n",
       "2987001         NaN\n",
       "2987002         NaN\n",
       "2987003         NaN\n",
       "2987004    0.764773\n",
       "2987005         NaN\n",
       "2987006         NaN\n",
       "2987007         NaN\n",
       "2987008    0.855794\n",
       "2987009         NaN\n",
       "2987010    1.339566\n",
       "2987011    0.835838\n",
       "2987012         NaN\n",
       "2987013         NaN\n",
       "2987014         NaN\n",
       "2987015         NaN\n",
       "2987016    0.137576\n",
       "2987017    0.617329\n",
       "2987018         NaN\n",
       "2987019         NaN\n",
       "2987020         NaN\n",
       "2987021         NaN\n",
       "2987022         NaN\n",
       "2987023         NaN\n",
       "2987024         NaN\n",
       "2987025         NaN\n",
       "2987026         NaN\n",
       "2987027         NaN\n",
       "2987028         NaN\n",
       "2987029         NaN\n",
       "Name: id_02, dtype: float32"
      ]
     },
     "execution_count": 15,
     "metadata": {},
     "output_type": "execute_result"
    }
   ],
   "source": [
    "(train['id_02'] / train.groupby('card1')['id_02'].transform('mean')).head(30)"
   ]
  },
  {
   "cell_type": "markdown",
   "metadata": {},
   "source": [
    "#### card4 - id_02  - addr1 - id_02\n",
    "- benzer sekilde id_02 degiskeni ile card4 ve addr1 arasindaki iliskiyi de anlayamadim"
   ]
  },
  {
   "cell_type": "markdown",
   "metadata": {},
   "source": [
    "#### (card1 - D15), (card4 - D15), (addr1 - D15)\n",
    "- D15 degiskeni hakkinda bir kanaat olusmadigindan bu yeni feature olusturmanin mantigi da kavranamadi"
   ]
>>>>>>> 0059197... feature_eng
>>>>>>> 77f8e7e... added
=======
>>>>>>> abbeab249deaaef1aa5a631b8e4d37362f016cab
  },
  {
   "cell_type": "markdown",
   "metadata": {},
   "source": [
    "# 5. Berkan"
   ]
  },
  {
   "cell_type": "code",
   "execution_count": null,
   "metadata": {},
   "outputs": [],
   "source": []
  },
  {
   "cell_type": "code",
   "execution_count": null,
   "metadata": {},
   "outputs": [],
   "source": []
  },
  {
   "cell_type": "code",
   "execution_count": null,
   "metadata": {},
   "outputs": [],
   "source": []
  },
  {
   "cell_type": "code",
   "execution_count": null,
   "metadata": {},
   "outputs": [],
   "source": []
  },
  {
   "cell_type": "markdown",
   "metadata": {},
   "source": [
    "# 6. Muhammet (Nor)"
   ]
  },
  {
   "cell_type": "code",
   "execution_count": null,
   "metadata": {},
   "outputs": [],
   "source": []
  },
  {
   "cell_type": "code",
   "execution_count": null,
   "metadata": {},
   "outputs": [],
   "source": []
  },
  {
   "cell_type": "code",
   "execution_count": null,
   "metadata": {},
   "outputs": [],
   "source": []
  },
  {
   "cell_type": "code",
   "execution_count": null,
   "metadata": {},
   "outputs": [],
   "source": []
  },
  {
   "cell_type": "markdown",
   "metadata": {},
   "source": [
    "# LIGHT GBM"
   ]
  },
  {
   "cell_type": "code",
   "execution_count": null,
   "metadata": {},
   "outputs": [],
   "source": []
  },
  {
   "cell_type": "code",
   "execution_count": null,
   "metadata": {},
   "outputs": [],
   "source": []
  },
  {
   "cell_type": "code",
   "execution_count": null,
   "metadata": {},
   "outputs": [],
   "source": []
  },
  {
   "cell_type": "code",
   "execution_count": null,
   "metadata": {},
   "outputs": [],
   "source": []
  },
  {
   "cell_type": "code",
   "execution_count": null,
   "metadata": {},
   "outputs": [],
   "source": []
  },
  {
   "cell_type": "code",
   "execution_count": null,
   "metadata": {},
   "outputs": [],
   "source": []
  },
  {
   "cell_type": "markdown",
   "metadata": {},
   "source": [
    "# XGBOOST  MODELI"
   ]
  },
  {
   "cell_type": "code",
   "execution_count": null,
   "metadata": {},
   "outputs": [],
   "source": []
  }
 ],
 "metadata": {
  "kernelspec": {
   "display_name": "Python 3",
   "language": "python",
   "name": "python3"
  },
  "language_info": {
   "codemirror_mode": {
    "name": "ipython",
    "version": 3
   },
   "file_extension": ".py",
   "mimetype": "text/x-python",
   "name": "python",
   "nbconvert_exporter": "python",
   "pygments_lexer": "ipython3",
   "version": "3.7.3"
  }
 },
 "nbformat": 4,
 "nbformat_minor": 4
}
